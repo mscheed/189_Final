{
 "cells": [
  {
   "cell_type": "code",
   "execution_count": 1,
   "metadata": {
    "scrolled": true
   },
   "outputs": [],
   "source": [
    "from NeuroPy import NeuroPy\n",
    "import time\n",
    "import keyboard\n",
    "import numpy as np\n",
    "import pandas as pd\n",
    "import datetime\n",
    "import random\n",
    "import sys\n",
    "import pylsl\n",
    "\n",
    "#from sklearn.neural_network import MLPClassifier\n"
   ]
  },
  {
   "cell_type": "code",
   "execution_count": 2,
   "metadata": {
    "scrolled": true
   },
   "outputs": [],
   "source": [
    "#Connect to Headset\n",
    "MW = NeuroPy();\n",
    "MW.start();"
   ]
  },
  {
   "cell_type": "code",
   "execution_count": 3,
   "metadata": {},
   "outputs": [],
   "source": [
    "from selenium import webdriver\n",
    "\n",
    "driver = webdriver.Chrome()\n",
    "driver.get('https://en.wikipedia.org/wiki/Artificial_neural_network')"
   ]
  },
  {
   "cell_type": "code",
   "execution_count": null,
   "metadata": {},
   "outputs": [
    {
     "name": "stdout",
     "output_type": "stream",
     "text": [
      "Starting Blink sample gathering\n",
      "('average attention: ', 78)\n",
      "('average meditation: ', 43)\n",
      "('average attention: ', 71)\n",
      "('average meditation: ', 36)\n",
      "('average attention: ', 95)\n",
      "('average meditation: ', 55)\n",
      "('average attention: ', 99)\n",
      "('average meditation: ', 75)\n",
      "('average attention: ', 95)\n",
      "('average meditation: ', 73)\n",
      "('average attention: ', 77)\n",
      "('average meditation: ', 71)\n",
      "('average attention: ', 65)\n",
      "('average meditation: ', 66)\n",
      "('average attention: ', 99)\n",
      "('average meditation: ', 59)\n",
      "('average attention: ', 96)\n",
      "('average meditation: ', 59)\n",
      "('average attention: ', 94)\n",
      "('average meditation: ', 40)\n",
      "('average attention: ', 93)\n",
      "('average meditation: ', 48)\n",
      "('average attention: ', 97)\n",
      "('average meditation: ', 49)\n",
      "('average attention: ', 100)\n",
      "('average meditation: ', 44)\n",
      "('average attention: ', 100)\n",
      "('average meditation: ', 35)\n",
      "('average attention: ', 100)\n",
      "('average meditation: ', 46)\n"
     ]
    }
   ],
   "source": [
    "# MAIN LOOP, READ ATTN/MED AND SCROLL PAGE\n",
    "\n",
    "scroll_pos = 0\n",
    "run = 1\n",
    "h_max = driver.execute_script(\"return document.body.scrollHeight\")\n",
    "\n",
    "atn_cutoff = 70\n",
    "med_cutoff = 70\n",
    "scroll_step = 20\n",
    "scroll_up = 0\n",
    "print 'Starting Blink sample gathering'\n",
    "while(run == 1):\n",
    "    \n",
    "    atn_list = []\n",
    "    med_list = []\n",
    "    for i in range(0,20):\n",
    "        atn_list.append(MW.attention)\n",
    "        med_list.append(MW.meditation)\n",
    "        time.sleep(0.2)\n",
    "    avg_atn = ( sum(atn_list) / len(atn_list) )\n",
    "    avg_med = ( sum(med_list) / len(med_list) )\n",
    "    \n",
    "    print('average attention: ',avg_atn)\n",
    "    print('average meditation: ',avg_med)\n",
    "    if(avg_atn > atn_cutoff):\n",
    "        \n",
    "        if(scroll_pos + scroll_step < h_max ):\n",
    "            scroll_pos = scroll_pos + scroll_step \n",
    "            driver.execute_script(\"window.scrollTo(0, %d)\" % scroll_pos)\n",
    "            scroll_up = 0\n",
    "    \n",
    "    elif(avg_med > avg_atn and avg_med > med_cutoff):\n",
    "        if(scroll_up == 0):\n",
    "            if(scroll_pos - scroll_step < 0 ):\n",
    "                scroll_pos = scroll_pos - scroll_step \n",
    "                driver.execute_script(\"window.scrollTo(0, %d)\" % scroll_pos)\n",
    "                scroll_up = 1\n",
    "        else:\n",
    "            pass\n",
    "    else:\n",
    "        pass\n",
    "        \n",
    "    \n",
    "    \n",
    "    \n",
    "    \n"
   ]
  },
  {
   "cell_type": "code",
   "execution_count": null,
   "metadata": {},
   "outputs": [],
   "source": []
  },
  {
   "cell_type": "code",
   "execution_count": null,
   "metadata": {
    "scrolled": true
   },
   "outputs": [],
   "source": [
    "#DEPRECATED#\n",
    "\n",
    "#Connect to openVibe LSL stream\n",
    "streams = pylsl.resolve_stream('type','signal')\n",
    "inlet = pylsl.stream_inlet(streams[0])\n",
    "\n",
    "sample = pylsl.vectorf()\n"
   ]
  },
  {
   "cell_type": "code",
   "execution_count": null,
   "metadata": {
    "scrolled": false
   },
   "outputs": [],
   "source": [
    "#DEPRECATED#\n",
    "\n",
    "#UPDATED BLINK GATHERING\n",
    "\n",
    "Headset_Reading = []\n",
    "Sample_List = [[]]\n",
    "Sample_Array = np.array(np.zeros(900))\n",
    "Data_Array = np.array([0,0,0,0,0,0,0,0,0])\n",
    "trainLabel = []\n",
    "\n",
    "run = 1\n",
    "num_Blinks = 0\n",
    "num_NoBlinks = 0\n",
    "\n",
    "print(inlet.pull_sample(Headset_Reading))\n",
    "print(inlet.pull_sample(Headset_Reading))\n",
    "print(inlet.pull_sample(Headset_Reading))\n",
    "print(inlet.pull_sample(Headset_Reading))\n",
    "print(inlet.pull_sample(Headset_Reading))\n",
    "print(inlet.pull_sample(Headset_Reading))\n",
    "\n",
    "\n",
    "\n",
    "\n",
    "print 'Starting Blink sample gathering'\n",
    "while(run == 1):\n",
    "    \n",
    "    inp = raw_input('enter [b] to gather next Blink sample, [n] for next Non-Blink sample, or [q] to exit')\n",
    "    if(inp == 'q'):\n",
    "        run = 0\n",
    "        print('Quiting, collected %s Blinks and %s noneblinks',num_Blinks,num_NoBlinks)\n",
    "    elif(inp == 'b'):\n",
    "        num_Blinks = num_Blinks + 1\n",
    "        for t in range(0,10):\n",
    "            print('get ready - %s', 10-t)\n",
    "            time.sleep(0.1)\n",
    "            \n",
    "        Blink_Sample = []\n",
    "        for smpl in range(0,100):\n",
    "            #Headset_Reading = [MW.delta,MW.theta,MW.lowAlpha,MW.highAlpha,MW.lowBeta,MW.highBeta,MW.lowGamma,MW.midGamma]\n",
    "            inlet.pull_sample(Headset_Reading)\n",
    "            Blink_Sample.extend(Headset_Reading)\n",
    "            #Blink_Sample.extend([random.randint(1,50),random.randint(1,50),random.randint(1,50),random.randint(1,50),random.randint(1,50),random.randint(1,50),random.randint(1,50),random.randint(1,50)])\n",
    "            Data_Array = np.vstack([Data_Array,Headset_Reading])\n",
    "            print(Headset_Reading)\n",
    "            time.sleep(0.01)\n",
    "\n",
    "        Sample_Array = np.vstack([Sample_Array,Blink_Sample])\n",
    "        Sample_List.append(Blink_Sample) \n",
    "        trainLabel.extend([1])\n",
    "        print('Collected Blink, num blink: %s, num none: %s',num_Blinks,num_NoBlinks)\n",
    "    elif(inp == 'n'):\n",
    "        num_NoBlinks = num_NoBlinks + 1\n",
    "        for t in range(0,10):\n",
    "            print('get ready - %s', 10-t)\n",
    "            time.sleep(0.1)\n",
    "            \n",
    "        NoBlink_Sample = []\n",
    "        for smpl in range(0,100):\n",
    "            #Headset_Reading = [MW.delta,MW.theta,MW.lowAlpha,MW.highAlpha,MW.lowBeta,MW.highBeta,MW.lowGamma,MW.midGamma]\n",
    "            inlet.pull_sample(Headset_Reading)\n",
    "            NoBlink_Sample.extend(Headset_Reading)\n",
    "            #NoBlink_Sample.extend([random.randint(1,50),random.randint(1,50),random.randint(1,50),random.randint(1,50),random.randint(1,50),random.randint(1,50),random.randint(1,50),random.randint(1,50)])\n",
    "            Data_Array = np.vstack([Data_Array,Headset_Reading])\n",
    "            time.sleep(0.01)\n",
    "        \n",
    "        Sample_Array = np.vstack([Sample_Array,NoBlink_Sample])\n",
    "        Sample_List.append(NoBlink_Sample) \n",
    "        trainLabel.extend([0])\n",
    "        print('Collected non-Blink, num blink: %s, num none: %s',num_Blinks,num_NoBlinks)\n",
    "    else:\n",
    "        pass\n",
    "    \n",
    "    "
   ]
  },
  {
   "cell_type": "code",
   "execution_count": null,
   "metadata": {
    "scrolled": true
   },
   "outputs": [],
   "source": [
    "print(len(Sample_List))\n",
    "print(len(trainLabel))\n",
    "\n",
    "Sample_List_All = Sample_List[1:]\n",
    "Sample_List_Training = Sample_List_All[:30]\n",
    "Labels_Training = trainLabel[:30]\n",
    "trainLabel"
   ]
  },
  {
   "cell_type": "code",
   "execution_count": null,
   "metadata": {
    "scrolled": true
   },
   "outputs": [],
   "source": [
    "#DEPRECATED#\n",
    "\n",
    "#    Neural Net\n",
    "\n",
    "from sklearn.neural_network import MLPClassifier\n",
    "\n",
    "blinkNet = MLPClassifier()\n",
    "\n"
   ]
  },
  {
   "cell_type": "code",
   "execution_count": null,
   "metadata": {},
   "outputs": [],
   "source": [
    "#DEPRECATED#\n",
    "\n",
    "#Save dataset to file\n",
    "import csv\n",
    "with open('SampleData.csv','wb') as csvFile:\n",
    "    writer = csv.writer(csvFile)\n",
    "    writer.writerows(Data_Array)\n",
    "csvFile.close()"
   ]
  },
  {
   "cell_type": "code",
   "execution_count": null,
   "metadata": {
    "scrolled": true
   },
   "outputs": [],
   "source": [
    "#DEPRECATED#\n",
    "\n",
    "\n",
    "#Train/Test Split\n",
    "\n",
    "TotalData = trainData_Blink.append(trainData_NoBlink)\n",
    "TotalData = TotalData.join(trainLabel)\n",
    "\n",
    "\n",
    "#Wont work, need groups of 100 not randomizes\n",
    "\n",
    "totalData = TotalData.sample(frac = 1)\n",
    "\n",
    "TrainSet = totalData.iloc[:75,:]\n",
    "TrainLabel = \n",
    "TestSet = totalData.iloc[75:,:]\n"
   ]
  },
  {
   "cell_type": "code",
   "execution_count": null,
   "metadata": {
    "scrolled": true
   },
   "outputs": [],
   "source": [
    "#DEPRECATED#\n",
    "\n",
    "#Training \n",
    "\n",
    "#for i in range(1,50):\n",
    "    #smplData = trainData_Blink.iloc[ i*100:((i+1)*100)-1 , : ]\n",
    "    #smplData = Blink_List[i]\n",
    "    #blinkNet.fit(smplData,)\n",
    "\n",
    "Sample_List_Train = SampleList[:30,:]    \n",
    "training    \n",
    "\n",
    "print(np.array(Blink_List).shape)\n",
    "labels = [1]*50\n",
    "blinkNet.fit(BL, labels)"
   ]
  },
  {
   "cell_type": "code",
   "execution_count": null,
   "metadata": {
    "scrolled": true
   },
   "outputs": [],
   "source": [
    "#DEPRECATED#\n",
    "\n",
    "#Testing, \n",
    "correct = 0\n",
    "for i in range(0,75):\n",
    "    smplData = TestData_Blink.iloc[ i*100:((i+1)*100)-1 , : ]\n",
    "    if(blinkNet.predict() == TestLabel[i]):\n",
    "        correct = correct + 1;"
   ]
  },
  {
   "cell_type": "code",
   "execution_count": null,
   "metadata": {
    "scrolled": true
   },
   "outputs": [],
   "source": []
  },
  {
   "cell_type": "code",
   "execution_count": null,
   "metadata": {
    "scrolled": true
   },
   "outputs": [],
   "source": []
  },
  {
   "cell_type": "code",
   "execution_count": null,
   "metadata": {},
   "outputs": [],
   "source": []
  },
  {
   "cell_type": "code",
   "execution_count": null,
   "metadata": {
    "scrolled": true
   },
   "outputs": [],
   "source": []
  },
  {
   "cell_type": "code",
   "execution_count": null,
   "metadata": {
    "scrolled": true
   },
   "outputs": [],
   "source": []
  },
  {
   "cell_type": "code",
   "execution_count": null,
   "metadata": {
    "scrolled": true
   },
   "outputs": [],
   "source": []
  },
  {
   "cell_type": "code",
   "execution_count": null,
   "metadata": {
    "scrolled": true
   },
   "outputs": [],
   "source": []
  },
  {
   "cell_type": "code",
   "execution_count": null,
   "metadata": {
    "scrolled": true
   },
   "outputs": [],
   "source": []
  },
  {
   "cell_type": "code",
   "execution_count": null,
   "metadata": {
    "scrolled": true
   },
   "outputs": [],
   "source": []
  },
  {
   "cell_type": "code",
   "execution_count": null,
   "metadata": {
    "scrolled": true
   },
   "outputs": [],
   "source": []
  },
  {
   "cell_type": "code",
   "execution_count": null,
   "metadata": {
    "scrolled": true
   },
   "outputs": [],
   "source": []
  },
  {
   "cell_type": "code",
   "execution_count": null,
   "metadata": {
    "scrolled": true
   },
   "outputs": [],
   "source": []
  },
  {
   "cell_type": "code",
   "execution_count": null,
   "metadata": {
    "scrolled": true
   },
   "outputs": [],
   "source": []
  }
 ],
 "metadata": {
  "kernelspec": {
   "display_name": "Python 2",
   "language": "python",
   "name": "python2"
  },
  "language_info": {
   "codemirror_mode": {
    "name": "ipython",
    "version": 2
   },
   "file_extension": ".py",
   "mimetype": "text/x-python",
   "name": "python",
   "nbconvert_exporter": "python",
   "pygments_lexer": "ipython2",
   "version": "2.7.15"
  }
 },
 "nbformat": 4,
 "nbformat_minor": 2
}
